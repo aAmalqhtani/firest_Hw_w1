{
 "cells": [
  {
   "cell_type": "markdown",
   "id": "3a044714-b93a-4f32-a0b5-fce92f26d217",
   "metadata": {
    "id": "3a044714-b93a-4f32-a0b5-fce92f26d217"
   },
   "source": [
    "# Math and Random Numbers\n",
    "*Jonathan Mikkila - for SDA FinTech 2021*\n",
    "\n",
    "#### One of the most common use cases for IPython Notebooks is to **analyze** and **explore data** - often refered to as **Exploratory Data Analysis (EDA)**\n",
    "#### In order to work with data with often have to make use of **mathematics**\n",
    "\n",
    "#### Two of the most common ways of working with mathematics beyond the basic operations included in python are the libraries:\n",
    "#### **math** & **numpy**\n",
    "\n",
    "#### In this notebook we will also quickly do an introduction to working with **random number generators** with the libraries: \n",
    "#### **random** & **numpy**"
   ]
  },
  {
   "cell_type": "code",
   "execution_count": null,
   "id": "2e2a26c8-13ec-468a-9ab7-80b71d187ce1",
   "metadata": {},
   "outputs": [],
   "source": []
  },
  {
   "cell_type": "markdown",
   "id": "fdd78651-f780-4c71-b24e-dec749c44367",
   "metadata": {
    "id": "fdd78651-f780-4c71-b24e-dec749c44367"
   },
   "source": [
    " \n",
    "  \n",
    "Python supports a number number of math and math-like operations natively without libraries, and these can be used with data types other than numbers.\n",
    "\n",
    "Later on you may be interested in learning how to define these opeartions for your own classes and data types. But for now let's stick to the basics.\n",
    "\n",
    "Some common examples are **addition**, **subtraction**, **multiplication**, **division**, **modulo** (remainder), **powers**."
   ]
  },
  {
   "cell_type": "markdown",
   "id": "5bd46213-d63a-49fa-ae6f-b70ee760e91e",
   "metadata": {
    "id": "5bd46213-d63a-49fa-ae6f-b70ee760e91e"
   },
   "source": [
    "**Quick refresher on formatted strings**:  \n",
    "*we can format a string by placing an f before it, and insert code evaluations mid-string using {}-braces.*  \n",
    "*Here we make use of print to display our formatted strings after our cells.*  \n",
    "*This is a great example and may come in very handy later on for logging and printing to console*"
   ]
  },
  {
   "cell_type": "code",
   "execution_count": null,
   "id": "4c8e5ad2-f72c-43a8-a67d-6798d9782fb6",
   "metadata": {
    "colab": {
     "base_uri": "https://localhost:8080/"
    },
    "executionInfo": {
     "elapsed": 21,
     "status": "ok",
     "timestamp": 1633507542729,
     "user": {
      "displayName": "Jonathan Mikkila",
      "photoUrl": "https://lh3.googleusercontent.com/a-/AOh14GgIxDDmgmicvYrrdYqltId7KV_Unp1UARQrxkPC=s64",
      "userId": "12413736020675750134"
     },
     "user_tz": 240
    },
    "id": "4c8e5ad2-f72c-43a8-a67d-6798d9782fb6",
    "outputId": "e75fece8-873f-4c5d-9e56-821aa60253a1"
   },
   "outputs": [
    {
     "name": "stdout",
     "output_type": "stream",
     "text": [
      "Addition         : 2 + 5 = 7\n",
      "Subtraction      : 5 - 2 = 3\n",
      "Subtraction      : 2 - 5 = -3\n",
      "Multiplication   : 2 * 5 = 10\n",
      "Divison          : 2 / 5 = 0.4\n",
      "Modulo           : 5 % 2 = 1\n",
      "Power            : 5 ** 2 = 25\n",
      "Roots(as powers) : 25 ** 0.5 = 5.0\n"
     ]
    }
   ],
   "source": [
    "variable_1 = 2\n",
    "variable_2 = 5\n",
    "\n",
    "print(f\"Addition         : {variable_1} + {variable_2} = { (variable_1 + variable_2) }\")\n",
    "print(f\"Subtraction      : {variable_2} - {variable_1} = { (variable_2 - variable_1) }\")\n",
    "print(f\"Subtraction      : {variable_1} - {variable_2} = { (variable_1 - variable_2) }\")\n",
    "print(f\"Multiplication   : {variable_1} * {variable_2} = { (variable_1 * variable_2) }\")\n",
    "print(f\"Divison          : {variable_1} / {variable_2} = { (variable_1 / variable_2) }\")\n",
    "print(f\"Modulo           : {variable_2} % {variable_1} = { (variable_2 % variable_1) }\")\n",
    "print(f\"Power            : {variable_2} ** {variable_1} = { (variable_2 ** variable_1)}\")\n",
    "print(f\"Roots(as powers) : {25} ** {0.5} = { (25 ** 0.5) }\")\n"
   ]
  },
  {
   "cell_type": "markdown",
   "id": "d4b2dce3-160d-405d-bda8-1b2942d31c21",
   "metadata": {
    "id": "d4b2dce3-160d-405d-bda8-1b2942d31c21"
   },
   "source": [
    "\n",
    "Python also supports operations for others data types. \n",
    "You will gradually learn these over time, but here are some examples:"
   ]
  },
  {
   "cell_type": "code",
   "execution_count": null,
   "id": "dd6e7537-9382-41da-8d60-f7b1118a4a09",
   "metadata": {
    "id": "dd6e7537-9382-41da-8d60-f7b1118a4a09",
    "outputId": "0fadc80c-f12f-4cbd-c92c-4e848f9e822e"
   },
   "outputs": [
    {
     "name": "stdout",
     "output_type": "stream",
     "text": [
      "String Concatination: \n",
      " ABC + XYZ = ABCXYZ \n",
      "String Multiplication: \n",
      " ABC * 3 = ABCABCABC \n",
      "\n",
      "Array Concatination: \n",
      " [1, 2, 3] + ['A', None, 'C'] = [1, 2, 3, 'A', None, 'C'] \n",
      "Array Multiplication: \n",
      " [1, 2, 3] * 3 = [1, 2, 3, 1, 2, 3, 1, 2, 3] \n"
     ]
    }
   ],
   "source": [
    "print(f'String Concatination: \\n {\"ABC\"} + {\"XYZ\"} = { \"ABC\" + \"XYZ\" } ')\n",
    "print(f'String Multiplication: \\n {\"ABC\"} * 3 = { \"ABC\" * 3 } \\n')\n",
    "print(f'Array Concatination: \\n { [1,2,3] } + { [\"A\",None,\"C\"] } = { [1,2,3] + [\"A\",None,\"C\"] } ')\n",
    "print(f'Array Multiplication: \\n { [1,2,3] } * 3 = { [1,2,3] * 3 } ')"
   ]
  },
  {
   "cell_type": "markdown",
   "id": "16b3469a-b937-4854-9221-8678c8fa0f72",
   "metadata": {
    "id": "16b3469a-b937-4854-9221-8678c8fa0f72"
   },
   "source": [
    "There are also some built in math operators we have access to like: \n",
    "* absolute value via abs()\n",
    "* min()\n",
    "* max()\n",
    "* round()"
   ]
  },
  {
   "cell_type": "code",
   "execution_count": null,
   "id": "10906fc2-8380-4f73-9760-c3254ce4d0dd",
   "metadata": {
    "id": "10906fc2-8380-4f73-9760-c3254ce4d0dd",
    "outputId": "694afc9e-c1fd-4312-dcd4-1aba91b404d2"
   },
   "outputs": [
    {
     "name": "stdout",
     "output_type": "stream",
     "text": [
      " abs(-10) = 10 = |-10|\n",
      "\n",
      " list_1 = [1, 2, 3] \n",
      "\n",
      " min(list_1) = 1 \n",
      " max(list_1) = 3 \n",
      "\n",
      " round(2.2) = 2 \n",
      " round(3.9) = 4 \n"
     ]
    }
   ],
   "source": [
    "print(f\" abs(-10) = {abs(-10)} = |-10|\")\n",
    "\n",
    "list_1 = [1,2,3]\n",
    "\n",
    "print(f\"\\n list_1 = {list_1} \\n\")\n",
    "\n",
    "print(f\" min(list_1) = { min(list_1) } \")\n",
    "print(f\" max(list_1) = { max(list_1) } \\n\")\n",
    "\n",
    "print(f\" round(2.2) = { round(2.2) } \")\n",
    "print(f\" round(3.9) = { round(3.9) } \")"
   ]
  },
  {
   "cell_type": "markdown",
   "id": "75f47ad8-d39c-419f-9876-db15f5844858",
   "metadata": {
    "id": "75f47ad8-d39c-419f-9876-db15f5844858"
   },
   "source": [
    "\n",
    "## The Math Library\n",
    "\n",
    "While this is a great start, there are many more involved mathematical operations we are interested in performing.\n",
    "\n",
    "Opertions related to **logarithms**, **triganometry**, **combinatorics**, and working with numbers like **pi** and **euler's contant** (e).\n",
    "\n",
    "there is also a similar library for complex mathematics: **cmath**\n",
    "\n",
    "#### Remember:\n",
    "#### Before we can use a library we have to import it with the \"import\" keyword.\n",
    "#### Let's do that now"
   ]
  },
  {
   "cell_type": "code",
   "execution_count": null,
   "id": "362f3842-dc8a-47fa-869a-63a89a8b3f12",
   "metadata": {
    "id": "362f3842-dc8a-47fa-869a-63a89a8b3f12"
   },
   "outputs": [],
   "source": [
    "import math"
   ]
  },
  {
   "cell_type": "code",
   "execution_count": null,
   "id": "ae30e748-2007-4554-9af1-cf01d9c93ec2",
   "metadata": {
    "colab": {
     "base_uri": "https://localhost:8080/"
    },
    "executionInfo": {
     "elapsed": 122,
     "status": "ok",
     "timestamp": 1633507614113,
     "user": {
      "displayName": "Jonathan Mikkila",
      "photoUrl": "https://lh3.googleusercontent.com/a-/AOh14GgIxDDmgmicvYrrdYqltId7KV_Unp1UARQrxkPC=s64",
      "userId": "12413736020675750134"
     },
     "user_tz": 240
    },
    "id": "ae30e748-2007-4554-9af1-cf01d9c93ec2",
    "outputId": "95a8cf40-a5fc-4b67-a36b-03fa04543e1d"
   },
   "outputs": [
    {
     "name": "stdout",
     "output_type": "stream",
     "text": [
      "logarthm (natural) : math.log(1) = 0.0 \n",
      "logarthm (natural) : math.log(math.e) = 1.0 \n",
      "\n",
      "logarthm (base10) : math.log(10, 10) = 1.0 \n",
      "logarthm (base10) : math.log(100, 10) = 2.0 \n",
      "\n"
     ]
    },
    {
     "data": {
      "text/plain": [
       "19.779909588683687"
      ]
     },
     "execution_count": 6,
     "metadata": {},
     "output_type": "execute_result"
    }
   ],
   "source": [
    "print(f\"logarthm (natural) : math.log(1) = {math.log(1)} \")\n",
    "print(f\"logarthm (natural) : math.log(math.e) = {math.log(math.e)} \\n\")\n",
    "print(f\"logarthm (base10) : math.log(10, 10) = {math.log(10, 10)} \")\n",
    "print(f\"logarthm (base10) : math.log(100, 10) = {math.log(100, 10)} \\n\")\n",
    "\n",
    "math.log(389318989)"
   ]
  },
  {
   "cell_type": "code",
   "execution_count": null,
   "id": "2f2a163d-b333-4483-a623-a11e55ff52ff",
   "metadata": {
    "id": "2f2a163d-b333-4483-a623-a11e55ff52ff",
    "outputId": "06e3698e-5c4a-4282-acd2-d69ed3868e81"
   },
   "outputs": [
    {
     "name": "stdout",
     "output_type": "stream",
     "text": [
      "sine: math.sin(math.pi/2) = 1.0 \n",
      "cosine: math.cos(math.pi/2) = 6.123233995736766e-17 ~= 0.0\n",
      "tan: math.log(10, 10) = 0.9999999999999999 \n"
     ]
    }
   ],
   "source": [
    "print(f\"sine: math.sin(math.pi/2) = {math.sin(math.pi/2)} \")\n",
    "print(f\"cosine: math.cos(math.pi/2) = {math.cos(math.pi/2)} ~= {round(math.cos(math.pi/2),2)}\")\n",
    "print(f\"tan: math.log(10, 10) = {math.tan(math.pi*0.25)} \")"
   ]
  },
  {
   "cell_type": "code",
   "execution_count": null,
   "id": "201f56d5-c965-4006-a481-527d0ad41869",
   "metadata": {
    "id": "201f56d5-c965-4006-a481-527d0ad41869",
    "outputId": "15eec085-d4cb-4c10-d28b-ef22fc8ebaf5"
   },
   "outputs": [
    {
     "name": "stdout",
     "output_type": "stream",
     "text": [
      "floor: math.floor(4.2) = 4 \n",
      "ceiling: math.ceil(1.1) = 2 \n"
     ]
    }
   ],
   "source": [
    "print(f\"floor: math.floor(4.2) = {math.floor(4.2)} \")\n",
    "print(f\"ceiling: math.ceil(1.1) = {math.ceil(1.1)} \")"
   ]
  },
  {
   "cell_type": "markdown",
   "id": "227286d1-918d-4c6b-835d-e49722adb981",
   "metadata": {
    "id": "227286d1-918d-4c6b-835d-e49722adb981"
   },
   "source": [
    "\n",
    "### Exploring the documentation:\n",
    "\n",
    "Libraries in python can be extensive. They can take a while to learn and change with some frequency. \n",
    "Reading the documentation is one of the best ways to start learning about a library. \n",
    "\n",
    "It can also be an easy way to figure out what options are open for getting things done, or to look for best practices.\n",
    "\n",
    "Open the math library documentation and take a look at what operators are supported.\n",
    "\n",
    "https://docs.python.org/3/library/math.html\n",
    "\n",
    "**Optional for advanced students**  \n",
    "cmath for complex numbers:  \n",
    "https://docs.python.org/3/library/cmath.html"
   ]
  },
  {
   "cell_type": "markdown",
   "id": "70c105e7-263c-4ec3-babe-0f13f5f639d4",
   "metadata": {
    "id": "70c105e7-263c-4ec3-babe-0f13f5f639d4"
   },
   "source": [
    "#### Working with numpy\n",
    "\n",
    "The **numpy** library provides an extensive framework and library for doing both accelerated mathematics and matrix operations.\n",
    "Behind the scenes **numpy** makes use of very advanced tooling and software engineering in languages like C++ to make things go fast -- really fast.\n",
    "\n",
    "It also supports a very easy way to work with matricies and tensors. \n",
    "For those of you with experience in MATLAB, if you create numpy objects, they will behave very similar to how variable in MATLAB behave.\n",
    "\n",
    "The two most common numpy objects are arrays for arrays, and matrix for matrices.\n",
    "\n",
    "Keep in mind our examples above for how python operations work and see if you can spot some differences.\n",
    "\n",
    "#### As always, we start by importing our library"
   ]
  },
  {
   "cell_type": "code",
   "execution_count": null,
   "id": "7f1919e7-53fb-42be-8de4-924d0577151f",
   "metadata": {
    "id": "7f1919e7-53fb-42be-8de4-924d0577151f"
   },
   "outputs": [],
   "source": [
    "import numpy"
   ]
  },
  {
   "cell_type": "code",
   "execution_count": null,
   "id": "c18295b0-e069-4e28-b91d-5596d697efc0",
   "metadata": {
    "id": "c18295b0-e069-4e28-b91d-5596d697efc0",
    "outputId": "fab8e668-141c-4178-f9af-f3209154924a"
   },
   "outputs": [
    {
     "data": {
      "text/plain": [
       "array([1, 2, 3])"
      ]
     },
     "execution_count": 87,
     "metadata": {},
     "output_type": "execute_result"
    }
   ],
   "source": [
    "# let's create an array\n",
    "numpy.array([1,2,3])"
   ]
  },
  {
   "cell_type": "code",
   "execution_count": null,
   "id": "a86b5ef6-8383-4e35-acb0-aeee21584395",
   "metadata": {
    "id": "a86b5ef6-8383-4e35-acb0-aeee21584395",
    "outputId": "8f44f90d-da58-463a-d0b6-47f859b116c0"
   },
   "outputs": [
    {
     "data": {
      "text/plain": [
       "array([1, 2, 3])"
      ]
     },
     "execution_count": 90,
     "metadata": {},
     "output_type": "execute_result"
    }
   ],
   "source": [
    "#Let's try some broadcast operations:\n",
    "numpy.array([1,2,3]) * 1"
   ]
  },
  {
   "cell_type": "code",
   "execution_count": null,
   "id": "b36c7e93-9d69-4e31-b281-e4f215dde342",
   "metadata": {
    "id": "b36c7e93-9d69-4e31-b281-e4f215dde342",
    "outputId": "c043f9f9-14a2-4711-d175-a318fb14097b"
   },
   "outputs": [
    {
     "data": {
      "text/plain": [
       "array([2, 4, 6])"
      ]
     },
     "execution_count": 89,
     "metadata": {},
     "output_type": "execute_result"
    }
   ],
   "source": [
    "numpy.array([1,2,3]) * 2"
   ]
  },
  {
   "cell_type": "code",
   "execution_count": null,
   "id": "d50f872a-5bf0-4598-b13a-53449b8c98be",
   "metadata": {
    "id": "d50f872a-5bf0-4598-b13a-53449b8c98be",
    "outputId": "2fe9251b-4abd-476f-a798-df380a6c4931"
   },
   "outputs": [
    {
     "data": {
      "text/plain": [
       "array([1., 2., 3.])"
      ]
     },
     "execution_count": 95,
     "metadata": {},
     "output_type": "execute_result"
    }
   ],
   "source": [
    "numpy.array([2, 4, 6]) / 2"
   ]
  },
  {
   "cell_type": "code",
   "execution_count": null,
   "id": "a7ec4a36-0a34-492f-a015-863d73114dc3",
   "metadata": {
    "id": "a7ec4a36-0a34-492f-a015-863d73114dc3",
    "outputId": "5650307d-8f32-4a20-861c-ab90f3db64e6"
   },
   "outputs": [
    {
     "ename": "TypeError",
     "evalue": "unsupported operand type(s) for /: 'list' and 'int'",
     "output_type": "error",
     "traceback": [
      "\u001b[1;31m---------------------------------------------------------------------------\u001b[0m",
      "\u001b[1;31mTypeError\u001b[0m                                 Traceback (most recent call last)",
      "\u001b[1;32m<ipython-input-92-b480fdc67b21>\u001b[0m in \u001b[0;36m<module>\u001b[1;34m\u001b[0m\n\u001b[0;32m      1\u001b[0m \u001b[1;31m#We can't do this with python, it will give us an error:\u001b[0m\u001b[1;33m\u001b[0m\u001b[1;33m\u001b[0m\u001b[1;33m\u001b[0m\u001b[0m\n\u001b[1;32m----> 2\u001b[1;33m \u001b[1;33m[\u001b[0m\u001b[1;36m1\u001b[0m\u001b[1;33m,\u001b[0m\u001b[1;36m2\u001b[0m\u001b[1;33m,\u001b[0m\u001b[1;36m3\u001b[0m\u001b[1;33m]\u001b[0m \u001b[1;33m/\u001b[0m \u001b[1;36m2\u001b[0m\u001b[1;33m\u001b[0m\u001b[1;33m\u001b[0m\u001b[0m\n\u001b[0m",
      "\u001b[1;31mTypeError\u001b[0m: unsupported operand type(s) for /: 'list' and 'int'"
     ]
    }
   ],
   "source": [
    "#We can't do this with python, it will give us an error:\n",
    "[1,2,3] / 2"
   ]
  },
  {
   "cell_type": "markdown",
   "id": "3c79b326-af95-48b2-9700-7022f4502eab",
   "metadata": {
    "id": "3c79b326-af95-48b2-9700-7022f4502eab"
   },
   "source": [
    "Often programmers will give a library they use a lot an alias to make it easier to work with.  \n",
    "numpy is one of the most common libraries to give an alias, and it often appears in online examples and code bases as \"np\".\n",
    "\n",
    "Let's do this now."
   ]
  },
  {
   "cell_type": "code",
   "execution_count": null,
   "id": "4fc22c85-835c-451d-85bb-f3d8ac161fd2",
   "metadata": {
    "id": "4fc22c85-835c-451d-85bb-f3d8ac161fd2"
   },
   "outputs": [],
   "source": [
    "import numpy as np"
   ]
  },
  {
   "cell_type": "code",
   "execution_count": null,
   "id": "fe0a5220-2192-467e-af6b-811fb1d0e5c9",
   "metadata": {
    "id": "fe0a5220-2192-467e-af6b-811fb1d0e5c9",
    "outputId": "e8ffb3eb-d437-43cf-c3bc-66f08da87d63"
   },
   "outputs": [
    {
     "data": {
      "text/plain": [
       "array([1, 2, 3])"
      ]
     },
     "execution_count": 100,
     "metadata": {},
     "output_type": "execute_result"
    }
   ],
   "source": [
    "np.array([1,2,3])"
   ]
  },
  {
   "cell_type": "code",
   "execution_count": null,
   "id": "30f292ce-2e80-40d5-afd2-acb79c4a1380",
   "metadata": {
    "id": "30f292ce-2e80-40d5-afd2-acb79c4a1380",
    "outputId": "624197ca-f149-4802-82e8-739181536843"
   },
   "outputs": [
    {
     "name": "stdout",
     "output_type": "stream",
     "text": [
      "np.arange(2,6) = [2 3 4 5]\n",
      "np.arange(0,10,2) = [0 2 4 6 8]\n",
      "np.arange(10,0,-2) = [10  8  6  4  2] \n",
      "\n",
      "range(2,6) = [2, 3, 4, 5]\n",
      "range(0,10,2) = [0, 2, 4, 6, 8]\n",
      "range(10,0,-2) = [10, 8, 6, 4, 2]\n"
     ]
    }
   ],
   "source": [
    "# We can also make use of the numpy version of range(), np.arange() to build arrays like these.\n",
    "np.arange(3)\n",
    "\n",
    "# Let's explore with some formatted string examples\n",
    "print(f\"np.arange(2,6) = {np.arange(2,6)}\")\n",
    "print(f\"np.arange(0,10,2) = {np.arange(0,10,2)}\") #counting by 2\n",
    "print(f\"np.arange(10,0,-2) = {np.arange(10,0,-2)} \\n\") #counting in reverse by 2\n",
    "\n",
    "# We can do the same with python range(), by they won't be numpy array objects - so we can't broadcast or use them for other fun things requireing numpy objects.\n",
    "print(f\"range(2,6) = {list(range(2,6))}\")\n",
    "print(f\"range(0,10,2) = {list(range(0,10,2))}\") #counting by 2\n",
    "print(f\"range(10,0,-2) = {list(range(10,0,-2))}\") #counting in reverse by 2\n"
   ]
  },
  {
   "cell_type": "code",
   "execution_count": null,
   "id": "4bb9a534-7de6-4ccb-82b6-44a362ddb33e",
   "metadata": {
    "id": "4bb9a534-7de6-4ccb-82b6-44a362ddb33e",
    "outputId": "4313c5b2-c237-4199-8f21-4bf4f50614cf"
   },
   "outputs": [
    {
     "data": {
      "text/plain": [
       "array([-2,  0,  2,  4,  6])"
      ]
     },
     "execution_count": 114,
     "metadata": {},
     "output_type": "execute_result"
    }
   ],
   "source": [
    "# numpy broadcast subtraction\n",
    "np.arange(0,10,2) - 2"
   ]
  },
  {
   "cell_type": "code",
   "execution_count": null,
   "id": "122ca024-bd6a-47fd-b0eb-7b04912182ee",
   "metadata": {
    "id": "122ca024-bd6a-47fd-b0eb-7b04912182ee",
    "outputId": "89f7f73a-ba38-4228-c536-ad4acc69719d"
   },
   "outputs": [
    {
     "ename": "TypeError",
     "evalue": "unsupported operand type(s) for -: 'range' and 'int'",
     "output_type": "error",
     "traceback": [
      "\u001b[1;31m---------------------------------------------------------------------------\u001b[0m",
      "\u001b[1;31mTypeError\u001b[0m                                 Traceback (most recent call last)",
      "\u001b[1;32m<ipython-input-115-03826e8c47ec>\u001b[0m in \u001b[0;36m<module>\u001b[1;34m\u001b[0m\n\u001b[0;32m      1\u001b[0m \u001b[1;31m# python will give us an error\u001b[0m\u001b[1;33m\u001b[0m\u001b[1;33m\u001b[0m\u001b[1;33m\u001b[0m\u001b[0m\n\u001b[1;32m----> 2\u001b[1;33m \u001b[0mrange\u001b[0m\u001b[1;33m(\u001b[0m\u001b[1;36m0\u001b[0m\u001b[1;33m,\u001b[0m\u001b[1;36m10\u001b[0m\u001b[1;33m,\u001b[0m\u001b[1;36m2\u001b[0m\u001b[1;33m)\u001b[0m \u001b[1;33m-\u001b[0m \u001b[1;36m2\u001b[0m\u001b[1;33m\u001b[0m\u001b[1;33m\u001b[0m\u001b[0m\n\u001b[0m",
      "\u001b[1;31mTypeError\u001b[0m: unsupported operand type(s) for -: 'range' and 'int'"
     ]
    }
   ],
   "source": [
    "# python will give us an error\n",
    "range(0,10,2) - 2"
   ]
  },
  {
   "cell_type": "markdown",
   "id": "c72c8588-e91e-4470-a3e6-8d01e75b7a4b",
   "metadata": {
    "id": "c72c8588-e91e-4470-a3e6-8d01e75b7a4b"
   },
   "source": [
    "#### Let's try some array and matrix operations"
   ]
  },
  {
   "cell_type": "code",
   "execution_count": null,
   "id": "be9b297a-ae51-4dd4-a6f7-87e94b28bd32",
   "metadata": {
    "id": "be9b297a-ae51-4dd4-a6f7-87e94b28bd32",
    "outputId": "70810f93-4885-464f-d849-58aa1e88de01"
   },
   "outputs": [
    {
     "data": {
      "text/plain": [
       "array([ 8, 16, 24, 32, 40])"
      ]
     },
     "execution_count": 119,
     "metadata": {},
     "output_type": "execute_result"
    }
   ],
   "source": [
    "# element wise substraction (works for matrices as well - must always be the same shape)\n",
    "np.arange(10,51,10) - np.arange(2,11,2)"
   ]
  },
  {
   "cell_type": "code",
   "execution_count": null,
   "id": "5e0e5ad5-3154-4fc2-9196-1805748656bf",
   "metadata": {
    "id": "5e0e5ad5-3154-4fc2-9196-1805748656bf",
    "outputId": "b25f5bee-858c-4da2-97c0-753f645da173"
   },
   "outputs": [
    {
     "data": {
      "text/plain": [
       "matrix([[1, 2, 3],\n",
       "        [4, 5, 6],\n",
       "        [7, 8, 9]])"
      ]
     },
     "execution_count": 121,
     "metadata": {},
     "output_type": "execute_result"
    }
   ],
   "source": [
    "# an example matrix\n",
    "np.matrix([\n",
    "    [1,2,3],\n",
    "    [4,5,6],\n",
    "    [7,8,9]\n",
    "])"
   ]
  },
  {
   "cell_type": "code",
   "execution_count": null,
   "id": "01ef5382-8c9c-4c2e-8436-c13e7336153e",
   "metadata": {
    "id": "01ef5382-8c9c-4c2e-8436-c13e7336153e",
    "outputId": "98e32299-1e63-4866-b7f9-1ff4223c4696"
   },
   "outputs": [
    {
     "name": "stdout",
     "output_type": "stream",
     "text": [
      "matrix.shape = (3, 3)\n",
      "array.shape = (5,)\n"
     ]
    }
   ],
   "source": [
    "# numpy matrix and array objects have a shape property\n",
    "matrix = np.matrix([\n",
    "    [1,2,3],\n",
    "    [4,5,6],\n",
    "    [7,8,9]\n",
    "])\n",
    "array = np.arange(10,51,10)\n",
    "\n",
    "print(f\"matrix.shape = {matrix.shape}\")\n",
    "print(f\"array.shape = {array.shape}\")"
   ]
  },
  {
   "cell_type": "code",
   "execution_count": null,
   "id": "2610363e-cd05-4b80-8feb-31ba3e10a90e",
   "metadata": {
    "id": "2610363e-cd05-4b80-8feb-31ba3e10a90e",
    "outputId": "3088fb6b-3d25-48b2-da36-f074f7866eac"
   },
   "outputs": [
    {
     "data": {
      "text/plain": [
       "matrix([[ 3,  4,  5],\n",
       "        [ 6,  7,  8],\n",
       "        [ 9, 10, 11]])"
      ]
     },
     "execution_count": 122,
     "metadata": {},
     "output_type": "execute_result"
    }
   ],
   "source": [
    "# scalar adition\n",
    "np.matrix([\n",
    "    [1,2,3],\n",
    "    [4,5,6],\n",
    "    [7,8,9]\n",
    "]) + 2"
   ]
  },
  {
   "cell_type": "code",
   "execution_count": null,
   "id": "70729bb1-4787-4f61-9280-a903902d4c5e",
   "metadata": {
    "id": "70729bb1-4787-4f61-9280-a903902d4c5e",
    "outputId": "fd2c45ca-6b58-4fa9-ab43-f00fd040863f"
   },
   "outputs": [
    {
     "data": {
      "text/plain": [
       "matrix([[ 2,  4,  6],\n",
       "        [ 8, 10, 12],\n",
       "        [14, 16, 18]])"
      ]
     },
     "execution_count": 123,
     "metadata": {},
     "output_type": "execute_result"
    }
   ],
   "source": [
    "# scalar multiplication\n",
    "np.matrix([\n",
    "    [1,2,3],\n",
    "    [4,5,6],\n",
    "    [7,8,9]\n",
    "]) * 2"
   ]
  },
  {
   "cell_type": "code",
   "execution_count": null,
   "id": "2e55d0e6-9b85-4558-85b6-0d764ede1381",
   "metadata": {
    "id": "2e55d0e6-9b85-4558-85b6-0d764ede1381",
    "outputId": "415b1319-6873-4430-9467-81eb86b2459d"
   },
   "outputs": [
    {
     "data": {
      "text/plain": [
       "matrix([[ 30,  36,  42],\n",
       "        [ 66,  81,  96],\n",
       "        [102, 126, 150]])"
      ]
     },
     "execution_count": 124,
     "metadata": {},
     "output_type": "execute_result"
    }
   ],
   "source": [
    "# matrix multiplication via implicit * operator\n",
    "np.matrix([\n",
    "    [1,2,3],\n",
    "    [4,5,6],\n",
    "    [7,8,9]\n",
    "]) * np.matrix([\n",
    "    [1,2,3],\n",
    "    [4,5,6],\n",
    "    [7,8,9]\n",
    "]) "
   ]
  },
  {
   "cell_type": "code",
   "execution_count": 2,
   "id": "8e231b6d-d30e-4e84-8531-932bca57095b",
   "metadata": {
    "id": "8e231b6d-d30e-4e84-8531-932bca57095b",
    "outputId": "15c71027-b6a4-4877-8765-63996c6e4256"
   },
   "outputs": [
    {
     "data": {
      "text/plain": [
       "matrix([[ 30,  36,  42],\n",
       "        [ 66,  81,  96],\n",
       "        [102, 126, 150]])"
      ]
     },
     "execution_count": 2,
     "metadata": {},
     "output_type": "execute_result"
    }
   ],
   "source": [
    "# matrix multiplication via explicit numpy operation\n",
    "import numpy as np\n",
    "np.matmul(\n",
    "    np.matrix([\n",
    "        [1,2,3],\n",
    "        [4,5,6],\n",
    "        [7,8,9]]),\n",
    "    np.matrix([\n",
    "        [1,2,3],\n",
    "        [4,5,6],\n",
    "        [7,8,9]],\n",
    "    )\n",
    ")"
   ]
  },
  {
   "cell_type": "code",
   "execution_count": 5,
   "id": "3def4240-28ce-43f2-98f4-e28015effd82",
   "metadata": {
    "id": "3def4240-28ce-43f2-98f4-e28015effd82",
    "outputId": "c5220293-e669-4bd7-aa13-9568e3c847be"
   },
   "outputs": [
    {
     "data": {
      "text/plain": [
       "matrix([[ 1,  2,  3],\n",
       "        [ 4,  8, 12],\n",
       "        [ 7, 14, 21]])"
      ]
     },
     "execution_count": 5,
     "metadata": {},
     "output_type": "execute_result"
    }
   ],
   "source": [
    "# matrix multiplication example 2\n",
    "import numpy as np\n",
    "np.matmul(\n",
    "    np.matrix([\n",
    "        [1],\n",
    "        [4],\n",
    "        [7]]),\n",
    "    np.matrix([\n",
    "        [1,2,3],\n",
    "       ],\n",
    "    )\n",
    ")"
   ]
  },
  {
   "cell_type": "markdown",
   "id": "6c6ca930-cf76-4965-b82d-8cb20c524296",
   "metadata": {
    "id": "6c6ca930-cf76-4965-b82d-8cb20c524296"
   },
   "source": [
    "#### We can also ask for means averages, and all sorts of fun things."
   ]
  },
  {
   "cell_type": "code",
   "execution_count": null,
   "id": "3477d9e0-17e8-4167-81d8-cab1880c0a13",
   "metadata": {
    "id": "3477d9e0-17e8-4167-81d8-cab1880c0a13",
    "outputId": "2d508bc7-6928-45ea-b3bf-d67878cdb707"
   },
   "outputs": [
    {
     "data": {
      "text/plain": [
       "array([[1., 0., 0., 0., 0.],\n",
       "       [0., 1., 0., 0., 0.],\n",
       "       [0., 0., 1., 0., 0.],\n",
       "       [0., 0., 0., 1., 0.],\n",
       "       [0., 0., 0., 0., 1.]])"
      ]
     },
     "execution_count": 132,
     "metadata": {},
     "output_type": "execute_result"
    }
   ],
   "source": [
    "# an identity matrix\n",
    "np.eye(5)"
   ]
  },
  {
   "cell_type": "code",
   "execution_count": null,
   "id": "0970dee0-fd54-4d7f-b84c-83d73177abf7",
   "metadata": {
    "id": "0970dee0-fd54-4d7f-b84c-83d73177abf7",
    "outputId": "ed4d025e-02a6-4b5a-ce5c-580eb859c90e"
   },
   "outputs": [
    {
     "data": {
      "text/plain": [
       "array([0.2, 0.2, 0.2, 0.2, 0.2])"
      ]
     },
     "execution_count": 152,
     "metadata": {},
     "output_type": "execute_result"
    }
   ],
   "source": [
    "np.eye(5).mean(axis=0)"
   ]
  },
  {
   "cell_type": "code",
   "execution_count": null,
   "id": "1ddc75b4-03b2-4e25-bed8-ae25814db0be",
   "metadata": {
    "id": "1ddc75b4-03b2-4e25-bed8-ae25814db0be",
    "outputId": "feba6efa-4e51-4499-9fdd-75e576afc9e1"
   },
   "outputs": [
    {
     "data": {
      "text/plain": [
       "array([0.2, 0.2, 0.2, 0.2, 0.2])"
      ]
     },
     "execution_count": 151,
     "metadata": {},
     "output_type": "execute_result"
    }
   ],
   "source": [
    "np.eye(5).mean(axis=1)"
   ]
  },
  {
   "cell_type": "code",
   "execution_count": null,
   "id": "44045e71-a04d-4fbd-adb6-b5fd11cf2cd0",
   "metadata": {
    "id": "44045e71-a04d-4fbd-adb6-b5fd11cf2cd0",
    "outputId": "2e0685a1-854c-4449-a686-508c12701c47"
   },
   "outputs": [
    {
     "data": {
      "text/plain": [
       "0.2"
      ]
     },
     "execution_count": 138,
     "metadata": {},
     "output_type": "execute_result"
    }
   ],
   "source": [
    "np.eye(5).mean()"
   ]
  },
  {
   "cell_type": "code",
   "execution_count": null,
   "id": "66512608-f4d1-4bbe-bf13-2a0c34c8a796",
   "metadata": {
    "id": "66512608-f4d1-4bbe-bf13-2a0c34c8a796",
    "outputId": "ad7fab36-fd8b-40db-c5cd-44b1fb70d30c"
   },
   "outputs": [
    {
     "data": {
      "text/plain": [
       "matrix([[1, 2, 3],\n",
       "        [4, 5, 6],\n",
       "        [7, 8, 9]])"
      ]
     },
     "execution_count": 140,
     "metadata": {},
     "output_type": "execute_result"
    }
   ],
   "source": [
    "np.matrix([\n",
    "    [1,2,3],\n",
    "    [4,5,6],\n",
    "    [7,8,9]\n",
    "])"
   ]
  },
  {
   "cell_type": "code",
   "execution_count": null,
   "id": "d32e0bc0-6035-46f2-a121-9cb4740d83c4",
   "metadata": {
    "id": "d32e0bc0-6035-46f2-a121-9cb4740d83c4",
    "outputId": "e1825adb-5ac4-48ef-aa14-f41ab557db9d"
   },
   "outputs": [
    {
     "data": {
      "text/plain": [
       "matrix([[4., 5., 6.]])"
      ]
     },
     "execution_count": 148,
     "metadata": {},
     "output_type": "execute_result"
    }
   ],
   "source": [
    "# mean along aixs 0\n",
    "np.matrix([\n",
    "    [1,2,3],\n",
    "    [4,5,6],\n",
    "    [7,8,9]\n",
    "]).mean(axis=0)"
   ]
  },
  {
   "cell_type": "code",
   "execution_count": null,
   "id": "feb97d19-a0d6-404a-ad0b-b64dbbfae170",
   "metadata": {
    "id": "feb97d19-a0d6-404a-ad0b-b64dbbfae170",
    "outputId": "17c820d5-2e15-436b-d697-d2c2000e19c2"
   },
   "outputs": [
    {
     "data": {
      "text/plain": [
       "5.0"
      ]
     },
     "execution_count": 154,
     "metadata": {},
     "output_type": "execute_result"
    }
   ],
   "source": [
    "# mean of mean along aixs 0\n",
    "np.matrix([\n",
    "    [1,2,3],\n",
    "    [4,5,6],\n",
    "    [7,8,9]\n",
    "]).mean(axis=0).mean()"
   ]
  },
  {
   "cell_type": "code",
   "execution_count": null,
   "id": "28563da2-c2d2-46c5-a98c-fa2e211cf674",
   "metadata": {
    "id": "28563da2-c2d2-46c5-a98c-fa2e211cf674",
    "outputId": "6182f8ee-9d7c-44cf-b914-7b859be3b818"
   },
   "outputs": [
    {
     "data": {
      "text/plain": [
       "matrix([[2.],\n",
       "        [5.],\n",
       "        [8.]])"
      ]
     },
     "execution_count": 149,
     "metadata": {},
     "output_type": "execute_result"
    }
   ],
   "source": [
    "# mean along aixs 1\n",
    "np.matrix([\n",
    "    [1,2,3],\n",
    "    [4,5,6],\n",
    "    [7,8,9]\n",
    "]).mean(axis=1)"
   ]
  },
  {
   "cell_type": "code",
   "execution_count": null,
   "id": "2fc0b93d-7887-4c0d-8b2a-e0bd26080b51",
   "metadata": {
    "id": "2fc0b93d-7887-4c0d-8b2a-e0bd26080b51",
    "outputId": "dc4a2fb7-6321-437e-8b04-46a5bccb68dd"
   },
   "outputs": [
    {
     "data": {
      "text/plain": [
       "5.0"
      ]
     },
     "execution_count": 153,
     "metadata": {},
     "output_type": "execute_result"
    }
   ],
   "source": [
    "# mean of mean along aixs 0\n",
    "np.matrix([\n",
    "    [1,2,3],\n",
    "    [4,5,6],\n",
    "    [7,8,9]\n",
    "]).mean(axis=1).mean()"
   ]
  },
  {
   "cell_type": "code",
   "execution_count": null,
   "id": "a88eb65a-6094-4c41-9cb2-57039de56ad1",
   "metadata": {
    "id": "a88eb65a-6094-4c41-9cb2-57039de56ad1",
    "outputId": "7c30aa9d-4837-44c6-abf1-2657a457ad53"
   },
   "outputs": [
    {
     "data": {
      "text/plain": [
       "5.0"
      ]
     },
     "execution_count": 150,
     "metadata": {},
     "output_type": "execute_result"
    }
   ],
   "source": [
    "# mean of whole matrix\n",
    "np.matrix([\n",
    "    [1,2,3],\n",
    "    [4,5,6],\n",
    "    [7,8,9]\n",
    "]).mean()"
   ]
  },
  {
   "cell_type": "code",
   "execution_count": null,
   "id": "f81ae762-d2d3-4cee-b45b-94c52875b812",
   "metadata": {
    "id": "f81ae762-d2d3-4cee-b45b-94c52875b812",
    "outputId": "3d6e1e3c-04a3-4ab3-a24e-c03cab0a1550"
   },
   "outputs": [
    {
     "name": "stdout",
     "output_type": "stream",
     "text": [
      "min of matrix: matrix.min() = 1\n",
      "max of matrix: matrix.max() = 9 \n",
      "\n",
      "min of each column: matrix.min(axis = 0) = [[1 2 3]]\n",
      "max of each row: matrix.max(axis = 1) = \n",
      " [[3]\n",
      " [6]\n",
      " [9]] \n",
      "\n",
      "standard deviation of matrix: matrix.std() = 2.581988897471611\n"
     ]
    }
   ],
   "source": [
    "# More fun with operations on matricies (works with arrays also) \n",
    "matrix = np.matrix([\n",
    "    [1,2,3],\n",
    "    [4,5,6],\n",
    "    [7,8,9]\n",
    "])\n",
    "\n",
    "print(f\"min of matrix: matrix.min() = {matrix.min()}\")\n",
    "print(f\"max of matrix: matrix.max() = {matrix.max()} \\n\")\n",
    "\n",
    "print(f\"min of each column: matrix.min(axis = 0) = {matrix.min(axis = 0)}\")\n",
    "print(f\"max of each row: matrix.max(axis = 1) = \\n {matrix.max(axis = 1)} \\n\")\n",
    "\n",
    "print(f\"standard deviation of matrix: matrix.std() = {matrix.std()}\")"
   ]
  },
  {
   "cell_type": "markdown",
   "id": "cc6e67dd-bc44-4c05-84b9-3fb5aded51a1",
   "metadata": {
    "id": "cc6e67dd-bc44-4c05-84b9-3fb5aded51a1"
   },
   "source": [
    "#### Exploring the Documentation:\n",
    "\n",
    "numpy by python standards is a very large and capable library. Reading the entire documentation would take a while and lots of practice would still be required.\n",
    "\n",
    "It's still encouraged to explore the documentation: https://numpy.org/doc/stable/  \n",
    "and look at examples: https://numpy.org/doc/stable/user/quickstart.html\n",
    "\n",
    "But don't feel rushed, you will get lots of practice as time goes on.\n"
   ]
  },
  {
   "cell_type": "markdown",
   "id": "e62285df-369c-4f51-830c-9c7fef09a033",
   "metadata": {
    "id": "e62285df-369c-4f51-830c-9c7fef09a033"
   },
   "source": [
    "## Working with Random Numbers\n",
    "\n",
    "Random numbers are tremendously useful in analysis and modeling, and in many cases essential for some applications. \n",
    "\n",
    "Almost all random numbers used in software and data science are not true random numbers, but pseudo-random numbers from a pseudo-random number generator.  \n",
    "(For students who are curious: https://en.wikipedia.org/wiki/Pseudorandom_number_generator)\n",
    " \n",
    "Random numbers are sampled from random number distributions - the most common being a uniform distribution (where each value has an equal likelihood of being selected),  \n",
    "and the normal distribution - where numbers are centred around the mean and follow a bell curve in likelihood as they move away from the centre. \n",
    "\n",
    "The two most common ways to work with random numbers are the libraries *random* and *numpy*.\n",
    "\n",
    "#### **Let's jumpin!**\n",
    "\n",
    "*but first* **import**"
   ]
  },
  {
   "cell_type": "code",
   "execution_count": null,
   "id": "b4fb3e05-1e20-4874-8de5-17c1021327eb",
   "metadata": {
    "id": "b4fb3e05-1e20-4874-8de5-17c1021327eb"
   },
   "outputs": [],
   "source": [
    "import random"
   ]
  },
  {
   "cell_type": "code",
   "execution_count": null,
   "id": "938604e6-8c64-4b1e-bcf9-4ae051c79ab2",
   "metadata": {
    "id": "938604e6-8c64-4b1e-bcf9-4ae051c79ab2",
    "outputId": "1c5797b9-596b-411e-df97-1743db5ff928"
   },
   "outputs": [
    {
     "name": "stdout",
     "output_type": "stream",
     "text": [
      "2\n",
      "1\n",
      "5\n",
      "1\n",
      "10\n",
      "10\n",
      "8\n",
      "4\n",
      "6\n",
      "2\n"
     ]
    }
   ],
   "source": [
    "# let's use a loop to select 10 random numbers from 1-10\n",
    "\n",
    "for _ in range(10): # we use _ because we do not want to store the index variable \n",
    "    print(random.randint(0,10))"
   ]
  },
  {
   "cell_type": "code",
   "execution_count": null,
   "id": "6b136248-3650-4c34-a40f-0a6e9c3748ad",
   "metadata": {
    "id": "6b136248-3650-4c34-a40f-0a6e9c3748ad",
    "outputId": "8bdff8f4-e720-45ac-ccae-0e167dbee752"
   },
   "outputs": [
    {
     "name": "stdout",
     "output_type": "stream",
     "text": [
      "8\n",
      "5\n",
      "9\n",
      "3\n",
      "5\n",
      "0\n",
      "6\n",
      "4\n",
      "9\n",
      "4\n"
     ]
    }
   ],
   "source": [
    "# everytime we run this block of code it will return new random numbers:\n",
    "\n",
    "for _ in range(10): # we use _ because we do not want to store the index variable \n",
    "    print(random.randint(0,10))"
   ]
  },
  {
   "cell_type": "markdown",
   "id": "433d5d4c-fed2-4e84-9f88-890e40c2acaf",
   "metadata": {
    "id": "433d5d4c-fed2-4e84-9f88-890e40c2acaf"
   },
   "source": [
    "Sometimes it's important to be able to re-generate the same sequence of pseudo-random numbers.\n",
    "\n",
    "There are lots of reasons to do this, but the most common being scientific reproducability and verification.\n",
    "\n",
    "To achieve this we can make use of a random **seed**."
   ]
  },
  {
   "cell_type": "code",
   "execution_count": null,
   "id": "7378d948-3e28-4c2e-95a5-f55329367554",
   "metadata": {
    "id": "7378d948-3e28-4c2e-95a5-f55329367554",
    "outputId": "169dd2c3-1393-4135-ab24-2d6dda15848f"
   },
   "outputs": [
    {
     "name": "stdout",
     "output_type": "stream",
     "text": [
      "6\n",
      "6\n",
      "0\n",
      "4\n",
      "8\n",
      "7\n",
      "6\n",
      "4\n",
      "7\n",
      "5\n",
      "\n",
      "\n",
      "6\n",
      "6\n",
      "0\n",
      "4\n",
      "8\n",
      "7\n",
      "6\n",
      "4\n",
      "7\n",
      "5\n"
     ]
    }
   ],
   "source": [
    "# Now we will get the same series of numbers each time we run our for loop.\n",
    "\n",
    "random.seed(0)\n",
    "for _ in range(10): print(random.randint(0,10)) # for for-loops with only one line, we can in-line. Later we will also learn about generators. \n",
    "\n",
    "print('\\n')\n",
    "random.seed(0) # This will reproduce the same sequence\n",
    "for _ in range(10): print(random.randint(0,10))"
   ]
  },
  {
   "cell_type": "code",
   "execution_count": null,
   "id": "3a583af3-3533-4064-b1b1-5f590625248a",
   "metadata": {
    "id": "3a583af3-3533-4064-b1b1-5f590625248a",
    "outputId": "58f59a7e-440c-4de3-df80-3681800b6476"
   },
   "outputs": [
    {
     "name": "stdout",
     "output_type": "stream",
     "text": [
      "6\n",
      "6\n",
      "0\n",
      "4\n",
      "8\n",
      "7\n",
      "6\n",
      "4\n",
      "7\n",
      "5\n",
      "\n",
      "\n",
      "9\n",
      "3\n",
      "8\n",
      "2\n",
      "4\n",
      "2\n",
      "1\n",
      "9\n",
      "4\n",
      "8\n"
     ]
    }
   ],
   "source": [
    "# Now we will get the same series of numbers each time we run our for loop.\n",
    "\n",
    "random.seed(0)\n",
    "for _ in range(10): print(random.randint(0,10)) # for for-loops with only one line, we can in-line.\n",
    "\n",
    "print('\\n')\n",
    "# If we fail to reset the seed, the random process continues \n",
    "for _ in range(10): print(random.randint(0,10))"
   ]
  },
  {
   "cell_type": "markdown",
   "id": "d628abcf-9a3c-46e5-a110-963321d97704",
   "metadata": {
    "id": "d628abcf-9a3c-46e5-a110-963321d97704"
   },
   "source": [
    "#### Let's use some random numbers to pick days of the week from a hat:"
   ]
  },
  {
   "cell_type": "code",
   "execution_count": null,
   "id": "a1dda3f3-6f8e-4235-b2c9-c396e9a12441",
   "metadata": {
    "id": "a1dda3f3-6f8e-4235-b2c9-c396e9a12441",
    "outputId": "40f98b3c-64a9-4c22-9c1b-d2cd0106b593"
   },
   "outputs": [
    {
     "name": "stdout",
     "output_type": "stream",
     "text": [
      "Friday\n",
      "Thursday\n",
      "Monday\n"
     ]
    }
   ],
   "source": [
    "# Re-run this as many times as you like\n",
    "hat = ['Monday','Tuesday','Wednesday','Thursday','Friday','Saturday','Sunday']\n",
    "\n",
    "for idx in [random.randint(0,6) for _ in range(3)]:\n",
    "    print(hat[idx])"
   ]
  },
  {
   "cell_type": "markdown",
   "id": "f9026609-e9e3-44c0-9457-5d095876b8d7",
   "metadata": {
    "id": "f9026609-e9e3-44c0-9457-5d095876b8d7"
   },
   "source": [
    "**The Documentation for Random can be found here:** https://docs.python.org/3/library/random.html"
   ]
  },
  {
   "cell_type": "markdown",
   "id": "d2152dbc-a501-46b7-a0bf-32655f1aa39e",
   "metadata": {
    "id": "d2152dbc-a501-46b7-a0bf-32655f1aa39e"
   },
   "source": [
    "#### Numpy:\n",
    "\n",
    "Often we would like to make use of large collections of random numbers, and often we would like these to be in a numpy array or matrix for various purposes."
   ]
  },
  {
   "cell_type": "code",
   "execution_count": null,
   "id": "b93d59ec-3041-4194-9a7e-42e88d1761b2",
   "metadata": {
    "id": "b93d59ec-3041-4194-9a7e-42e88d1761b2",
    "outputId": "ca3a9353-0e9b-4cd2-b55a-fe14fd5c18c6"
   },
   "outputs": [
    {
     "name": "stdout",
     "output_type": "stream",
     "text": [
      "[0.18068529 0.08252484 0.70009106 0.83811793 0.63395874 0.4149467\n",
      " 0.6815614  0.43204472 0.40393972 0.43146701 0.6642375  0.0468709\n",
      " 0.07188666 0.5272954  0.75645253 0.55757584 0.80912319 0.55885535\n",
      " 0.59913424 0.5664974  0.68093164 0.23435685 0.46422442 0.9688482\n",
      " 0.9340209  0.38362731 0.20875651 0.04623367 0.89202008 0.88720721\n",
      " 0.69703196 0.35343271 0.5282379  0.46209363 0.4144879  0.7396806\n",
      " 0.00557083 0.31435835 0.13786946 0.33482175 0.35867098 0.9226973\n",
      " 0.90899963 0.82105777 0.03963306 0.09285953 0.88641448 0.1976387\n",
      " 0.12787089 0.74176509]\n",
      "\n",
      "mean of our sample: uniform_random_sample.mean() = 0.4948537149555605.\n",
      "As we can see, it's pretty close to 0.5, as expected.\n"
     ]
    }
   ],
   "source": [
    "uniform_random_sample = np.random.uniform(size=50)\n",
    "\n",
    "print(uniform_random_sample)\n",
    "print(f\"\\nmean of our sample: uniform_random_sample.mean() = {uniform_random_sample.mean()}.\") \n",
    "print(\"As we can see, it's pretty close to 0.5, as expected.\")"
   ]
  },
  {
   "cell_type": "markdown",
   "id": "918c679c-d324-4815-bbbb-d5c8f6b79c35",
   "metadata": {
    "id": "918c679c-d324-4815-bbbb-d5c8f6b79c35"
   },
   "source": [
    "#### Let's generate a sample of size 50 from a normal distribution with mean 10 and standard deviation 2"
   ]
  },
  {
   "cell_type": "code",
   "execution_count": null,
   "id": "e97a214d-0b53-4798-8cb9-1b6fa966f1f1",
   "metadata": {
    "id": "e97a214d-0b53-4798-8cb9-1b6fa966f1f1",
    "outputId": "7dff8da3-cfa4-4cac-ab67-e6801a22abcb"
   },
   "outputs": [
    {
     "name": "stdout",
     "output_type": "stream",
     "text": [
      "[10.21785888  9.7380795   7.68838535  7.60305118  9.84800267  5.43043233\n",
      "  9.43060761 11.59256157  9.74109696  8.65271672 10.75369765 12.4608538\n",
      " 10.97030392 10.0399833   7.44029385  9.36908735  6.97224273 11.90879265\n",
      "  9.01312197  9.09139118  9.9505301   7.3708123   8.07712988 11.25108038\n",
      "  9.94747146 12.05939296 11.24844483 11.37769844 12.7760654  10.46554962\n",
      " 12.15933332 10.75174799 11.37136768  9.46002698 10.77846075 10.51632702\n",
      " 13.04542695 11.33492133  6.71495588 13.45573143 11.58417931 10.6148003\n",
      " 11.04872798 10.79564212  9.88216361 13.48463787  6.40457906  8.07099694\n",
      "  7.04100484  9.02758677]\n",
      "\n",
      "mean of our sample: normal_sample.mean() = 10.000587092888125.\n",
      "As we can see, it's pretty close to 10, as expected.\n",
      "standard deviation of our sample: normal_sample.std() = 1.8919297094508059.\n",
      "As we can see, it's pretty close to 2, as expected.\n"
     ]
    }
   ],
   "source": [
    "normal_sample = numpy.random.normal(loc=10, scale=2, size=50)\n",
    "\n",
    "print(normal_sample)\n",
    "print(f\"\\nmean of our sample: normal_sample.mean() = {normal_sample.mean()}.\") \n",
    "print(\"As we can see, it's pretty close to 10, as expected.\")\n",
    "print(f\"standard deviation of our sample: normal_sample.std() = {normal_sample.std()}.\") \n",
    "print(\"As we can see, it's pretty close to 2, as expected.\")"
   ]
  },
  {
   "cell_type": "markdown",
   "id": "babec467-5db7-4950-b733-62e26eb9c3ba",
   "metadata": {
    "id": "babec467-5db7-4950-b733-62e26eb9c3ba"
   },
   "source": [
    "#### As we increase our sample size, through the law of large numbers, our sample statistics should more closely aproximate the distribution we are sampling from (become more accurate)."
   ]
  },
  {
   "cell_type": "code",
   "execution_count": null,
   "id": "edbf0a24-7cc7-4053-8a4c-198f8c160282",
   "metadata": {
    "id": "edbf0a24-7cc7-4053-8a4c-198f8c160282",
    "outputId": "8d321a39-a44d-456d-b952-adb7a7b7de4b"
   },
   "outputs": [
    {
     "name": "stdout",
     "output_type": "stream",
     "text": [
      "\n",
      "mean of our sample: normal_sample.mean() = 10.000416676887877.\n",
      "Much closer to 10, as expected.\n",
      "standard deviation of our sample: normal_sample.std() = 1.9975675545598393.\n",
      "Much closer to 2, as expected.\n"
     ]
    }
   ],
   "source": [
    "normal_sample = numpy.random.normal(loc=10, scale=2, size=50000) # let's increase our sample size by a factor of 1000\n",
    "\n",
    "print(f\"\\nmean of our sample: normal_sample.mean() = {normal_sample.mean()}.\") \n",
    "print(\"Much closer to 10, as expected.\")\n",
    "print(f\"standard deviation of our sample: normal_sample.std() = {normal_sample.std()}.\") \n",
    "print(\"Much closer to 2, as expected.\")"
   ]
  },
  {
   "cell_type": "markdown",
   "id": "17931074-cfeb-4338-a488-36e6ed33c0ea",
   "metadata": {
    "id": "17931074-cfeb-4338-a488-36e6ed33c0ea"
   },
   "source": [
    "#### Finally, let's visualize our sample\n",
    "Don't worry, we will go into more detail for this in weeks 1 and 2 - and learn better ways to do it."
   ]
  },
  {
   "cell_type": "code",
   "execution_count": null,
   "id": "c7a41824-98e9-4368-a55b-381e54ece3f0",
   "metadata": {
    "id": "c7a41824-98e9-4368-a55b-381e54ece3f0",
    "outputId": "033a11cf-b07a-419e-b271-073de9464db9"
   },
   "outputs": [
    {
     "data": {
      "image/png": "[encoded data removed]",
      "text/plain": [
       "<Figure size 432x288 with 1 Axes>"
      ]
     },
     "metadata": {
      "needs_background": "light"
     },
     "output_type": "display_data"
    }
   ],
   "source": [
    "from scipy.stats import norm\n",
    "import matplotlib.pyplot as plt\n",
    "# Fit a normal distribution to\n",
    "# the data:\n",
    "# mean and standard deviation\n",
    "mu, std = norm.fit(normal_sample) \n",
    "plt.hist(normal_sample, bins=25, density=True, alpha=0.6, color='b')\n",
    "xmin, xmax = plt.xlim()\n",
    "x = np.linspace(xmin, xmax, 100)\n",
    "p = norm.pdf(x, mu, std)\n",
    "  \n",
    "plt.plot(x, p, 'k', linewidth=2)\n",
    "title = \"Mean: {:.2f}, Std: {:.2f}, N: {}\".format(mu, std,len(normal_sample))\n",
    "plt.title(title)\n",
    "plt.show()"
   ]
  },
  {
   "cell_type": "markdown",
   "id": "0ea108f6-1936-4bf6-97ee-d5c50e572c00",
   "metadata": {
    "id": "0ea108f6-1936-4bf6-97ee-d5c50e572c00"
   },
   "source": [
    "**Numpy Random Documentation**: https://numpy.org/doc/stable/reference/random/index.html?highlight=random#module-numpy.random"
   ]
  },
  {
   "cell_type": "markdown",
   "id": "850faec7-97fb-4c01-86e3-887ff99c1d48",
   "metadata": {
    "id": "850faec7-97fb-4c01-86e3-887ff99c1d48"
   },
   "source": [
    "#### Congratulations for Making it to the end of the notebook! Hope you had fun, try it out below"
   ]
  },
  {
   "cell_type": "code",
   "execution_count": null,
   "id": "98a2c936-ccf8-43f4-863a-cf2f27a6054c",
   "metadata": {
    "id": "98a2c936-ccf8-43f4-863a-cf2f27a6054c"
   },
   "outputs": [],
   "source": []
  },
  {
   "cell_type": "code",
   "execution_count": null,
   "id": "ac158507-faae-4c53-a7f3-60c248e58f8c",
   "metadata": {
    "id": "ac158507-faae-4c53-a7f3-60c248e58f8c"
   },
   "outputs": [],
   "source": []
  },
  {
   "cell_type": "code",
   "execution_count": null,
   "id": "978ab5ef-37f4-40e8-b642-e22e88c0e6c7",
   "metadata": {
    "id": "978ab5ef-37f4-40e8-b642-e22e88c0e6c7"
   },
   "outputs": [],
   "source": []
  },
  {
   "cell_type": "code",
   "execution_count": null,
   "id": "55a0705a-a09b-4de5-838a-28b28ffa8658",
   "metadata": {
    "id": "55a0705a-a09b-4de5-838a-28b28ffa8658"
   },
   "outputs": [],
   "source": []
  },
  {
   "cell_type": "code",
   "execution_count": null,
   "id": "fb5a47a8-7c35-4fa2-9f94-307f04aff8d7",
   "metadata": {
    "id": "fb5a47a8-7c35-4fa2-9f94-307f04aff8d7"
   },
   "outputs": [],
   "source": []
  },
  {
   "cell_type": "code",
   "execution_count": null,
   "id": "2ac81588-72b4-4bfb-a7dd-0c184286c2bb",
   "metadata": {
    "id": "2ac81588-72b4-4bfb-a7dd-0c184286c2bb"
   },
   "outputs": [],
   "source": []
  },
  {
   "cell_type": "code",
   "execution_count": null,
   "id": "e2a0dbe6-5fa1-473a-9573-98df519bbaee",
   "metadata": {
    "id": "e2a0dbe6-5fa1-473a-9573-98df519bbaee"
   },
   "outputs": [],
   "source": []
  }
 ],
 "metadata": {
  "colab": {
   "name": "math_and_random_numbers.ipynb",
   "provenance": []
  },
  "interpreter": {
   "hash": "4b9a0c280fc50c2b36decad68c359aa613eb96441a8d33c29b2a9ec218cec8cd"
  },
  "kernelspec": {
   "display_name": "Python 3.8.8 64-bit ('base': conda)",
   "name": "python3"
  },
  "language_info": {
   "codemirror_mode": {
    "name": "ipython",
    "version": 3
   },
   "file_extension": ".py",
   "mimetype": "text/x-python",
   "name": "python",
   "nbconvert_exporter": "python",
   "pygments_lexer": "ipython3",
   "version": "3.8.8"
  }
 },
 "nbformat": 4,
 "nbformat_minor": 5
}
